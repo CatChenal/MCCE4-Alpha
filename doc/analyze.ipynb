{
 "cells": [
  {
   "cell_type": "markdown",
   "metadata": {},
   "source": [
    "_Run the first cell as is._  (It contains helper functions & common imports.)"
   ]
  },
  {
   "cell_type": "code",
   "execution_count": null,
   "metadata": {
    "editable": true,
    "jupyter": {
     "source_hidden": true
    },
    "slideshow": {
     "slide_type": ""
    },
    "tags": []
   },
   "outputs": [],
   "source": [
    "from IPython.core.interactiveshell import InteractiveShell\n",
    "InteractiveShell.ast_node_interactivity = \"all\"\n",
    "from IPython.display import Markdown, Image\n",
    "\n",
    "from functools import partial\n",
    "import numpy as np\n",
    "import pandas as pd\n",
    "\n",
    "from pathlib import Path\n",
    "from pprint import pprint as ptp\n",
    "import sys\n",
    "import time\n",
    "import matplotlib as mpl\n",
    "from matplotlib import pyplot as plt\n",
    "plt.ion()\n",
    "plt.style.use('seaborn-v0_8-muted')\n",
    "\n",
    "print(f\"Python ver: {sys.version}\\nPython env: {Path(sys.prefix).name}\")\n",
    "print(f\"Pandas ver: {pd.__version__}\")\n",
    "print(f\"Currrent dir: {Path.cwd()}\\n\")\n",
    "\n",
    "def add_to_sys_path(this_path, up=False):\n",
    "    \"\"\"\n",
    "    Prepend this_path to sys.path.\n",
    "    If up=True, path refers to parent folder (1 level up).\n",
    "    \"\"\"\n",
    "\n",
    "    if up:\n",
    "        newp = str(Path(this_path).parent)\n",
    "    else:\n",
    "        newp = str(Path(this_path))\n",
    "    if newp not in sys.path:\n",
    "        sys.path.insert(1, newp)\n",
    "        print('Path added to sys.path: {}'.format(newp))\n",
    "\n",
    "\n",
    "def fdir(obj, start_with_str='_', exclude=True):\n",
    "    \"\"\"Filtered dir() for method discovery.\"\"\"\n",
    "    return [d for d in dir(obj) if not d.startswith(start_with_str) == exclude]\n",
    "\n",
    "def despine(which=['top','right']):\n",
    "    \"\"\"which ([str])): 'left','top','right','bottom'.\"\"\"\n",
    "\n",
    "    ax = plt.gca()\n",
    "    for side in which:\n",
    "        ax.spines[side].set_visible(False)\n",
    "    return\n",
    "\n",
    "def md_width_comment(w:int=120) -> str:\n",
    "    \"\"\"Width guide for composing md documents.\"\"\"\n",
    "    return f\"<!-- dotted line width = {w}\\n{'.'*w}-->\"\n",
    "\n",
    "def get_elapsed_time(start_t:time, message :str=None) -> str:\n",
    "    elapsed = time.time() - start_t\n",
    "    if message is None:\n",
    "        return f\"Elapsed time: {elapsed:,.2f} s ({elapsed/60:,.2f} min).\"\n",
    "    return f\"{message} {elapsed:,.2f} s ({elapsed/60:,.2f} min).\"\n",
    "\n",
    "# autoreload extension\n",
    "%load_ext autoreload\n",
    "%autoreload 2"
   ]
  },
  {
   "cell_type": "markdown",
   "metadata": {},
   "source": [
    "# Reference MCCE4 paths in order to enable module imports:"
   ]
  },
  {
   "cell_type": "code",
   "execution_count": null,
   "metadata": {},
   "outputs": [],
   "source": [
    "here = Path.cwd()\n",
    "\n",
    "###### MODIFY:\n",
    "# Where is MCCE4 w.r.t. the location of THIS notebook?\n",
    "\n",
    "# Example:\n",
    "MC4 = here.parent.parent.parent\n",
    "MC4"
   ]
  },
  {
   "cell_type": "code",
   "execution_count": null,
   "metadata": {},
   "outputs": [],
   "source": [
    "# If MC4 is properly set, the following should be error-free:\n",
    "\n",
    "bin_dir = MC4.joinpath(\"bin\")\n",
    "mcbin_dir = MC4.joinpath(\"MCCE_bin\")\n",
    "add_to_sys_path(mcbin_dir)\n",
    "add_to_sys_path(bin_dir)"
   ]
  },
  {
   "cell_type": "code",
   "execution_count": null,
   "metadata": {
    "editable": true,
    "slideshow": {
     "slide_type": ""
    },
    "tags": []
   },
   "outputs": [],
   "source": [
    "import argparse\n",
    "import shutil\n",
    "\n",
    "import mcce4.io_utils as mciou\n",
    "from mcce4.mcce_benchmark import BENCH, N_PDBS, N_BATCH, RUNS_DIR, ANALYZE_DIR, FILES\n",
    "from mcce4.mcce_benchmark import (\n",
    "io_utils as iou,\n",
    "pkanalysis,\n",
    "comparison,\n",
    "plots,\n",
    "mcce_env as mcenv,\n",
    ")"
   ]
  },
  {
   "cell_type": "markdown",
   "metadata": {
    "editable": true,
    "slideshow": {
     "slide_type": ""
    },
    "tags": []
   },
   "source": [
    "---\n",
    "---\n",
    "# Define MCCE benchmark folders for analysis and comparison"
   ]
  },
  {
   "cell_type": "code",
   "execution_count": null,
   "metadata": {
    "editable": true,
    "slideshow": {
     "slide_type": ""
    },
    "tags": []
   },
   "outputs": [],
   "source": [
    "###### MODIFY as needed:\n",
    "\n",
    "# Note:\n",
    "# In this example, dir1 -> dry5idsl2 vs dir2 -> dry5idsl1 :: default level (l=1) will be the reference when comparing\n",
    "# using bench_compare dir1 dir2\n",
    "\n",
    "bdir1 = MC4.parent.joinpath(\"tests_bench\", \"dry5idsl2\").resolve()\n",
    "analyze1 = bdir1.joinpath(\"analysis\")\n",
    "bdir1.exists(), analyze1.exists()\n",
    "bdir1\n",
    "analyze1\n",
    "\n",
    "bdir2 = MC4.parent.joinpath(\"tests_bench\", \"dry5idsl1\").resolve()\n",
    "analyze2 = bdir2.joinpath(\"analysis\")\n",
    "bdir2.exists(), analyze2.exists()\n",
    "bdir2\n",
    "analyze2\n",
    "\n",
    "comp_dir = MC4.parent.joinpath(\"tests_bench\",\"comp_dry_l2l1\")\n",
    "\n",
    "round2 = partial(round, ndigits=2)"
   ]
  },
  {
   "cell_type": "code",
   "execution_count": null,
   "metadata": {},
   "outputs": [],
   "source": [
    "!ls -l {bdir2}"
   ]
  },
  {
   "cell_type": "markdown",
   "metadata": {},
   "source": [
    "---\n",
    "# Note: the code below is using `bdir2`, `analyze2` and `comp_dir` as paths"
   ]
  },
  {
   "cell_type": "markdown",
   "metadata": {},
   "source": [
    "---\n",
    "---\n",
    "\n",
    "# USE CASE 1: Redo the figures because they use the \"wrong\" conformer-making level\n",
    "This may be needed if the actual conformer-making level is not what you need it to be, likely because you have created a benchmarking set by copying the structure from another one instead of copying the data files (see Gehan).\n",
    "\n",
    "## Plotting functions that use the level argument:\n",
    "  * plot_conf_thrup\n",
    "  * plot_res_analysis\n",
    "  * plot_pkas_fit: the level number is in its pkas stats dict argument: needs amended\n",
    "\n",
    "## There are two ways to correct this situation.\n",
    "### 1. Amend the saved command line arguments (pickled file), then:\n",
    " * A. Rerun the analysis/comparison at the command line.\n",
    " * B. Rerun the plot functions for updating the figures.\n",
    "\n",
    "Consider this as a corrective measure: if done properly, the updated pickle file will reflect the intended setup.\n",
    "### 2. Change the value of the level argument. Applies to plot_conf_thrup & plot_res_analysis.\n",
    "\n",
    "Obtain all the arguments necessary to the plot function, then change the value of the level argument"
   ]
  },
  {
   "cell_type": "markdown",
   "metadata": {},
   "source": [
    "### 1. Amend the saved command line arguments (pickled file)\n",
    "In order to know what to correct, you need to load the file and inspect its contents:"
   ]
  },
  {
   "cell_type": "code",
   "execution_count": null,
   "metadata": {},
   "outputs": [],
   "source": [
    "# Create a backup copy. Even if not needed, it will indicate the original was amended.\n",
    "\n",
    "setup_args_fp = bdir2.joinpath(FILES.CLI_ARGS_PKL.value)\n",
    "bkp_fp = bdir2.joinpath(setup_args_fp.name + \".bkp\")\n",
    "shutil.copy(setup_args_fp, bkp_fp)"
   ]
  },
  {
   "cell_type": "code",
   "execution_count": null,
   "metadata": {},
   "outputs": [],
   "source": [
    "# When 'unpickled' directly (deserialized), the output type is 'argparse.Namespace', to get a dict we use the `vars` function:\n",
    "setup_d = vars(iou.from_pickle(setup_args_fp))"
   ]
  },
  {
   "cell_type": "code",
   "execution_count": null,
   "metadata": {},
   "outputs": [],
   "source": [
    "# What's in it?\n",
    "ptp(setup_d)"
   ]
  },
  {
   "cell_type": "code",
   "execution_count": null,
   "metadata": {},
   "outputs": [],
   "source": [
    "###### MODIFY as needed:\n",
    "\n",
    "# Update conf_making_level number:\n",
    "setup_d[\"conf_making_level\"] = 2  # an integer, 1, 2, or 3\n",
    "\n",
    "# Re-serialized to the same data type as the original:\n",
    "iou.to_pickle(argparse.Namespace(**setup_d), setup_args_fp)"
   ]
  },
  {
   "cell_type": "code",
   "execution_count": null,
   "metadata": {},
   "outputs": [],
   "source": [
    "# Check updated data:\n",
    "ptp(vars(iou.from_pickle(setup_args_fp)))"
   ]
  },
  {
   "cell_type": "markdown",
   "metadata": {},
   "source": [
    "## Option 1.A. Rerun the analysis/comparison at the command line.\n",
    "This is the easiest way.  \n",
    "**If your analysis files are old, this is also the recommended option**:  \n",
    "e.g. a newer version has the \"data_stats\" key in the pka stats dictionary to hold rmsd and correlation coeff of the two series irrespective of the outcome of the fit function (that's why it's in a separate key).\n",
    "\n",
    "In a terminal window, cd to your benchmark folder and run: \n",
    "```\n",
    "> bench_analyze pkdb_pdbs -bench_dir .\n",
    "# or\n",
    "> bench_analyze user_pdbs -bench_dir .\n",
    "```"
   ]
  },
  {
   "cell_type": "markdown",
   "metadata": {},
   "source": [
    "## Option 1.B. Rerun only the plot functions\n",
    "This entails accessing existing analysis output files & setting each function's arguments."
   ]
  },
  {
   "cell_type": "code",
   "execution_count": null,
   "metadata": {},
   "outputs": [],
   "source": [
    "!ls -l {analyze2}"
   ]
  },
  {
   "cell_type": "markdown",
   "metadata": {},
   "source": [
    "---\n",
    "### 1.B. Rerun `plots.plot_conf_thrup`"
   ]
  },
  {
   "cell_type": "code",
   "execution_count": null,
   "metadata": {},
   "outputs": [],
   "source": [
    "# What are its arguments?\n",
    "plots.plot_conf_thrup?"
   ]
  },
  {
   "cell_type": "code",
   "execution_count": null,
   "metadata": {},
   "outputs": [],
   "source": [
    "# Perhaps backup the old file?\n",
    "# alternate way to cpopying files in a notebook:\n",
    "!cp {analyze2/\"confs_throughput.png\"} {analyze2/\"confs_throughput.png.bkp\"}\n",
    "\n",
    "# get number of completed runs:\n",
    "n_complete = len(iou.get_book_dirs_for_status(bdir2/\"runs\"/\"book.txt\"))\n",
    "n_complete\n",
    "\n",
    "level = 2   # the new level\n",
    "# new pic (overwrite exisisting file):\n",
    "conf_thruput_pic = analyze2.joinpath(FILES.FIG_CONFS_TP.value)\n",
    "\n",
    "# Get the dataframe:\n",
    "conf_thruput_fp = analyze2.joinpath(FILES.CONFS_THRUPUT.value)\n",
    "thruput_df = iou.txt2df(conf_thruput_fp, header=0)\n",
    "plots.plot_conf_thrup(\n",
    "        thruput_df,\n",
    "        n_complete,\n",
    "        analyze2.parent.name,\n",
    "        level=level,\n",
    "        out_fp=conf_thruput_pic,\n",
    "    )\n",
    "\n",
    "# Load the new file:\n",
    "Image(filename=conf_thruput_pic)"
   ]
  },
  {
   "cell_type": "markdown",
   "metadata": {},
   "source": [
    "---\n",
    "### 1.B. Rerun `plot_res_analysis`"
   ]
  },
  {
   "cell_type": "code",
   "execution_count": null,
   "metadata": {},
   "outputs": [],
   "source": [
    "# What are its arguments?\n",
    "plots.plot_res_analysis?"
   ]
  },
  {
   "cell_type": "code",
   "execution_count": null,
   "metadata": {},
   "outputs": [],
   "source": [
    "# Perhaps backup the old files?\n",
    "!cp {analyze2/\"res_analysis.png\"} {analyze2/\"res_analysis.png.bkp\"}\n",
    "!cp {analyze2/\"residues_stats.pickle\"} {analyze2/\"residues_stats.pickle.bkp\"}\n",
    "\n",
    "# load the saved residues stats dict:\n",
    "res_stats_d = iou.from_pickle(analyze2.joinpath(FILES.RESIDUES_STATS_PKL.value))\n",
    "\n",
    "# Redo the plot\n",
    "lev = 2\n",
    "matched_fp = analyze2.joinpath(FILES.MATCHED_PKAS_TXT.value)\n",
    "new_pic = analyze2.joinpath(FILES.FIG_FIT_PER_RES.value)\n",
    "plots.plot_res_analysis(\n",
    "            matched_fp,\n",
    "            res_stats_d,\n",
    "            lev,\n",
    "            out_fp=new_pic,\n",
    "        )\n",
    "\n",
    "# Load the new file:\n",
    "Image(filename=new_pic)"
   ]
  },
  {
   "cell_type": "markdown",
   "metadata": {},
   "source": [
    "---\n",
    "### 1.B. Rerun `plot_pkas_fit`"
   ]
  },
  {
   "cell_type": "code",
   "execution_count": null,
   "metadata": {},
   "outputs": [],
   "source": [
    "# What are its arguments?\n",
    "plots.plot_pkas_fit?"
   ]
  },
  {
   "cell_type": "code",
   "execution_count": null,
   "metadata": {},
   "outputs": [],
   "source": [
    "# Perhaps backup the old files?\n",
    "!cp {analyze2/\"res_analysis.png\"} {analyze2/\"res_analysis.png.bkp\"}\n",
    "!cp {analyze2/\"matched_pkas_stats.pickle\"} {analyze2/\"matched_pkas_stats.pickle.bkp\"}\n",
    "\n",
    "# load the saved pkas stats dict:\n",
    "d_stats = iou.from_pickle(analyze2.joinpath(FILES.MATCHED_PKAS_STATS_PKL.value))\n",
    "\n",
    "# Change the level in the dict:\n",
    "d_stats[\"level\"] = (2, iou.levels2names[2])\n",
    "\n",
    "matched_fp = analyze2.joinpath(FILES.MATCHED_PKAS_TXT.value)\n",
    "pkfit_pic = analyze2.joinpath(FILES.FIG_FIT_ALLPKS.value)\n",
    "plots.plot_pkas_fit(\n",
    "    matched_fp,\n",
    "    d_stats,\n",
    "    out_fp=pkfit_pic)\n",
    "\n",
    "# Load the new file:\n",
    "Image(filename=pkfit_pic)"
   ]
  },
  {
   "cell_type": "markdown",
   "metadata": {},
   "source": [
    "---\n",
    "## Redoing comparison figures\n",
    "The files will have a different parent folder."
   ]
  },
  {
   "cell_type": "code",
   "execution_count": null,
   "metadata": {},
   "outputs": [],
   "source": [
    "!ls -l {comp_dir}"
   ]
  },
  {
   "cell_type": "code",
   "execution_count": null,
   "metadata": {},
   "outputs": [],
   "source": [
    "matched_fp = comp_dir.joinpath(FILES.MATCHED_PKAS_TXT.value)\n",
    "\n",
    "# Perhaps backup the old files?\n",
    "!cp {comp_dir/\"res_analysis.png\"} {comp_dir/\"res_analysis.png.bkp\"}\n",
    "!cp {comp_dir/\"residues_stats.pickle\"} {comp_dir/\"residues_stats.pickle.bkp\"}\n",
    "!cp {comp_dir/\"pkas_fit.png\"} {comp_dir/\"pkas_fit.png.bkp\"}\n",
    "!cp {comp_dir/\"matched_pkas_stats.pickle\"} {comp_dir/\"matched_pkas_stats.pickle.bkp\"}"
   ]
  },
  {
   "cell_type": "code",
   "execution_count": null,
   "metadata": {},
   "outputs": [],
   "source": [
    "# Re-plot the residues fit:\n",
    "\n",
    "# Get the input dict:\n",
    "res_stats_d = iou.from_pickle(comp_dir.joinpath(FILES.RESIDUES_STATS_PKL.value))\n",
    "\n",
    "comp_resfit = comp_dir.joinpath(FILES.FIG_FIT_PER_RES.value)\n",
    "level = 2\n",
    "plots.plot_res_analysis(\n",
    "        matched_fp,\n",
    "        res_stats_d,\n",
    "        level=level,\n",
    "        out_fp=comp_resfit,\n",
    "    )\n",
    "\n",
    "# Load the new file:\n",
    "Image(filename=comp_resfit)"
   ]
  },
  {
   "cell_type": "code",
   "execution_count": null,
   "metadata": {},
   "outputs": [],
   "source": [
    "# NOTE: This may fail if the saved data is too old (i.e. from a previous version):\n",
    "\n",
    "# Get the input dict:\n",
    "d_stats = iou.from_pickle(comp_dir.joinpath(FILES.MATCHED_PKAS_STATS_PKL.value))\n",
    "\n",
    "# Change the level in the dict:\n",
    "d_stats[\"level\"] = (2, iou.levels2names[2])\n",
    "\n",
    "# Re-plot the pkas fit:\n",
    "comp_pkfit = comp_dir.joinpath(FILES.FIG_FIT_ALLPKS.value)\n",
    "\n",
    "plots.plot_pkas_fit(\n",
    "    matched_fp,\n",
    "    d_stats,\n",
    "    out_fp=comp_pkfit,\n",
    "    comparison=True)"
   ]
  },
  {
   "cell_type": "markdown",
   "metadata": {},
   "source": [
    "Reset the next cell to code instead of raw if the previous cell ran without errors"
   ]
  },
  {
   "cell_type": "raw",
   "metadata": {},
   "source": [
    "# Load the new file:\n",
    "Image(filename=comp_pkfit)"
   ]
  },
  {
   "cell_type": "code",
   "execution_count": null,
   "metadata": {},
   "outputs": [],
   "source": []
  }
 ],
 "metadata": {
  "kernelspec": {
   "display_name": "Python [conda env:p310]",
   "language": "python",
   "name": "conda-env-p310-py"
  },
  "language_info": {
   "codemirror_mode": {
    "name": "ipython",
    "version": 3
   },
   "file_extension": ".py",
   "mimetype": "text/x-python",
   "name": "python",
   "nbconvert_exporter": "python",
   "pygments_lexer": "ipython3",
   "version": "3.10.14"
  }
 },
 "nbformat": 4,
 "nbformat_minor": 4
}
